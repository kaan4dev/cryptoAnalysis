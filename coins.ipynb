{
 "cells": [
  {
   "cell_type": "markdown",
   "metadata": {},
   "source": [
    "### Step 0 Imports and Reading Data"
   ]
  },
  {
   "cell_type": "code",
   "execution_count": 2,
   "metadata": {},
   "outputs": [],
   "source": [
    "import pandas as pd\n",
    "import numpy as np\n",
    "import matplotlib.pyplot as plt\n",
    "import seaborn as sns\n",
    "plt.style.use('ggplot')\n",
    "pd.set_option('display.max_columns', 200)"
   ]
  },
  {
   "cell_type": "code",
   "execution_count": 5,
   "metadata": {},
   "outputs": [],
   "source": [
    "df = pd.read_csv('/Users/kaancakir/data/cryptoAnalysis/Top 100 Crypto Coins/ethereum.csv') "
   ]
  },
  {
   "cell_type": "markdown",
   "metadata": {},
   "source": [
    "### Step 1: Data Understanding"
   ]
  },
  {
   "cell_type": "code",
   "execution_count": 6,
   "metadata": {},
   "outputs": [
    {
     "data": {
      "text/plain": [
       "(2358, 7)"
      ]
     },
     "execution_count": 6,
     "metadata": {},
     "output_type": "execute_result"
    }
   ],
   "source": [
    "df.shape"
   ]
  },
  {
   "cell_type": "code",
   "execution_count": 7,
   "metadata": {},
   "outputs": [
    {
     "data": {
      "text/plain": [
       "Index(['Date', 'Open', 'High', 'Low', 'Close', 'Volume', 'Currency'], dtype='object')"
      ]
     },
     "execution_count": 7,
     "metadata": {},
     "output_type": "execute_result"
    }
   ],
   "source": [
    "df.columns"
   ]
  },
  {
   "cell_type": "code",
   "execution_count": 16,
   "metadata": {},
   "outputs": [
    {
     "data": {
      "text/plain": [
       "Date        datetime64[ns]\n",
       "Open               float64\n",
       "High               float64\n",
       "Low                float64\n",
       "Close              float64\n",
       "Volume               int64\n",
       "Currency            object\n",
       "dtype: object"
      ]
     },
     "execution_count": 16,
     "metadata": {},
     "output_type": "execute_result"
    }
   ],
   "source": [
    "df.dtypes"
   ]
  },
  {
   "cell_type": "code",
   "execution_count": 8,
   "metadata": {},
   "outputs": [
    {
     "data": {
      "application/vnd.microsoft.datawrangler.viewer.v0+json": {
       "columns": [
        {
         "name": "index",
         "rawType": "object",
         "type": "string"
        },
        {
         "name": "Open",
         "rawType": "float64",
         "type": "float"
        },
        {
         "name": "High",
         "rawType": "float64",
         "type": "float"
        },
        {
         "name": "Low",
         "rawType": "float64",
         "type": "float"
        },
        {
         "name": "Close",
         "rawType": "float64",
         "type": "float"
        },
        {
         "name": "Volume",
         "rawType": "float64",
         "type": "float"
        }
       ],
       "conversionMethod": "pd.DataFrame",
       "ref": "bacfd5f4-b088-491a-b000-4da0c79fe241",
       "rows": [
        [
         "count",
         "2358.0",
         "2358.0",
         "2358.0",
         "2358.0",
         "2358.0"
        ],
        [
         "mean",
         "847.6080831212894",
         "877.3868278201867",
         "813.5152247667514",
         "848.2705131467345",
         "12694668.930873621"
        ],
        [
         "std",
         "1150.2976237944433",
         "1186.5447884820965",
         "1107.8689233229136",
         "1150.2618336622722",
         "101401267.06201464"
        ],
        [
         "min",
         "6.68",
         "7.32",
         "5.86",
         "6.7",
         "0.0"
        ],
        [
         "25%",
         "138.76749999999998",
         "144.41750000000002",
         "134.78",
         "138.99",
         "546553.0"
        ],
        [
         "50%",
         "279.16499999999996",
         "288.0",
         "266.885",
         "280.115",
         "1429778.5"
        ],
        [
         "75%",
         "1124.0075000000002",
         "1170.885",
         "1045.82",
         "1127.73",
         "7717626.75"
        ],
        [
         "max",
         "4808.34",
         "4864.06",
         "4715.43",
         "4808.38",
         "1792560768.0"
        ]
       ],
       "shape": {
        "columns": 5,
        "rows": 8
       }
      },
      "text/html": [
       "<div>\n",
       "<style scoped>\n",
       "    .dataframe tbody tr th:only-of-type {\n",
       "        vertical-align: middle;\n",
       "    }\n",
       "\n",
       "    .dataframe tbody tr th {\n",
       "        vertical-align: top;\n",
       "    }\n",
       "\n",
       "    .dataframe thead th {\n",
       "        text-align: right;\n",
       "    }\n",
       "</style>\n",
       "<table border=\"1\" class=\"dataframe\">\n",
       "  <thead>\n",
       "    <tr style=\"text-align: right;\">\n",
       "      <th></th>\n",
       "      <th>Open</th>\n",
       "      <th>High</th>\n",
       "      <th>Low</th>\n",
       "      <th>Close</th>\n",
       "      <th>Volume</th>\n",
       "    </tr>\n",
       "  </thead>\n",
       "  <tbody>\n",
       "    <tr>\n",
       "      <th>count</th>\n",
       "      <td>2358.000000</td>\n",
       "      <td>2358.000000</td>\n",
       "      <td>2358.000000</td>\n",
       "      <td>2358.000000</td>\n",
       "      <td>2.358000e+03</td>\n",
       "    </tr>\n",
       "    <tr>\n",
       "      <th>mean</th>\n",
       "      <td>847.608083</td>\n",
       "      <td>877.386828</td>\n",
       "      <td>813.515225</td>\n",
       "      <td>848.270513</td>\n",
       "      <td>1.269467e+07</td>\n",
       "    </tr>\n",
       "    <tr>\n",
       "      <th>std</th>\n",
       "      <td>1150.297624</td>\n",
       "      <td>1186.544788</td>\n",
       "      <td>1107.868923</td>\n",
       "      <td>1150.261834</td>\n",
       "      <td>1.014013e+08</td>\n",
       "    </tr>\n",
       "    <tr>\n",
       "      <th>min</th>\n",
       "      <td>6.680000</td>\n",
       "      <td>7.320000</td>\n",
       "      <td>5.860000</td>\n",
       "      <td>6.700000</td>\n",
       "      <td>0.000000e+00</td>\n",
       "    </tr>\n",
       "    <tr>\n",
       "      <th>25%</th>\n",
       "      <td>138.767500</td>\n",
       "      <td>144.417500</td>\n",
       "      <td>134.780000</td>\n",
       "      <td>138.990000</td>\n",
       "      <td>5.465530e+05</td>\n",
       "    </tr>\n",
       "    <tr>\n",
       "      <th>50%</th>\n",
       "      <td>279.165000</td>\n",
       "      <td>288.000000</td>\n",
       "      <td>266.885000</td>\n",
       "      <td>280.115000</td>\n",
       "      <td>1.429778e+06</td>\n",
       "    </tr>\n",
       "    <tr>\n",
       "      <th>75%</th>\n",
       "      <td>1124.007500</td>\n",
       "      <td>1170.885000</td>\n",
       "      <td>1045.820000</td>\n",
       "      <td>1127.730000</td>\n",
       "      <td>7.717627e+06</td>\n",
       "    </tr>\n",
       "    <tr>\n",
       "      <th>max</th>\n",
       "      <td>4808.340000</td>\n",
       "      <td>4864.060000</td>\n",
       "      <td>4715.430000</td>\n",
       "      <td>4808.380000</td>\n",
       "      <td>1.792561e+09</td>\n",
       "    </tr>\n",
       "  </tbody>\n",
       "</table>\n",
       "</div>"
      ],
      "text/plain": [
       "              Open         High          Low        Close        Volume\n",
       "count  2358.000000  2358.000000  2358.000000  2358.000000  2.358000e+03\n",
       "mean    847.608083   877.386828   813.515225   848.270513  1.269467e+07\n",
       "std    1150.297624  1186.544788  1107.868923  1150.261834  1.014013e+08\n",
       "min       6.680000     7.320000     5.860000     6.700000  0.000000e+00\n",
       "25%     138.767500   144.417500   134.780000   138.990000  5.465530e+05\n",
       "50%     279.165000   288.000000   266.885000   280.115000  1.429778e+06\n",
       "75%    1124.007500  1170.885000  1045.820000  1127.730000  7.717627e+06\n",
       "max    4808.340000  4864.060000  4715.430000  4808.380000  1.792561e+09"
      ]
     },
     "execution_count": 8,
     "metadata": {},
     "output_type": "execute_result"
    }
   ],
   "source": [
    "df.describe()"
   ]
  },
  {
   "cell_type": "code",
   "execution_count": 9,
   "metadata": {},
   "outputs": [
    {
     "data": {
      "application/vnd.microsoft.datawrangler.viewer.v0+json": {
       "columns": [
        {
         "name": "index",
         "rawType": "int64",
         "type": "integer"
        },
        {
         "name": "Date",
         "rawType": "object",
         "type": "string"
        },
        {
         "name": "Open",
         "rawType": "float64",
         "type": "float"
        },
        {
         "name": "High",
         "rawType": "float64",
         "type": "float"
        },
        {
         "name": "Low",
         "rawType": "float64",
         "type": "float"
        },
        {
         "name": "Close",
         "rawType": "float64",
         "type": "float"
        },
        {
         "name": "Volume",
         "rawType": "int64",
         "type": "integer"
        },
        {
         "name": "Currency",
         "rawType": "object",
         "type": "string"
        }
       ],
       "conversionMethod": "pd.DataFrame",
       "ref": "e9d4dae5-3037-4cb8-aa59-bcb7d5934a38",
       "rows": [
        [
         "0",
         "2016-03-10",
         "11.2",
         "11.85",
         "11.07",
         "11.75",
         "4",
         "USD"
        ],
        [
         "1",
         "2016-03-11",
         "11.75",
         "11.95",
         "11.75",
         "11.95",
         "179",
         "USD"
        ],
        [
         "2",
         "2016-03-12",
         "11.95",
         "13.45",
         "11.95",
         "12.92",
         "833",
         "USD"
        ],
        [
         "3",
         "2016-03-13",
         "12.92",
         "15.07",
         "12.92",
         "15.07",
         "1295",
         "USD"
        ],
        [
         "4",
         "2016-03-14",
         "15.07",
         "15.07",
         "11.4",
         "12.5",
         "92183",
         "USD"
        ]
       ],
       "shape": {
        "columns": 7,
        "rows": 5
       }
      },
      "text/html": [
       "<div>\n",
       "<style scoped>\n",
       "    .dataframe tbody tr th:only-of-type {\n",
       "        vertical-align: middle;\n",
       "    }\n",
       "\n",
       "    .dataframe tbody tr th {\n",
       "        vertical-align: top;\n",
       "    }\n",
       "\n",
       "    .dataframe thead th {\n",
       "        text-align: right;\n",
       "    }\n",
       "</style>\n",
       "<table border=\"1\" class=\"dataframe\">\n",
       "  <thead>\n",
       "    <tr style=\"text-align: right;\">\n",
       "      <th></th>\n",
       "      <th>Date</th>\n",
       "      <th>Open</th>\n",
       "      <th>High</th>\n",
       "      <th>Low</th>\n",
       "      <th>Close</th>\n",
       "      <th>Volume</th>\n",
       "      <th>Currency</th>\n",
       "    </tr>\n",
       "  </thead>\n",
       "  <tbody>\n",
       "    <tr>\n",
       "      <th>0</th>\n",
       "      <td>2016-03-10</td>\n",
       "      <td>11.20</td>\n",
       "      <td>11.85</td>\n",
       "      <td>11.07</td>\n",
       "      <td>11.75</td>\n",
       "      <td>4</td>\n",
       "      <td>USD</td>\n",
       "    </tr>\n",
       "    <tr>\n",
       "      <th>1</th>\n",
       "      <td>2016-03-11</td>\n",
       "      <td>11.75</td>\n",
       "      <td>11.95</td>\n",
       "      <td>11.75</td>\n",
       "      <td>11.95</td>\n",
       "      <td>179</td>\n",
       "      <td>USD</td>\n",
       "    </tr>\n",
       "    <tr>\n",
       "      <th>2</th>\n",
       "      <td>2016-03-12</td>\n",
       "      <td>11.95</td>\n",
       "      <td>13.45</td>\n",
       "      <td>11.95</td>\n",
       "      <td>12.92</td>\n",
       "      <td>833</td>\n",
       "      <td>USD</td>\n",
       "    </tr>\n",
       "    <tr>\n",
       "      <th>3</th>\n",
       "      <td>2016-03-13</td>\n",
       "      <td>12.92</td>\n",
       "      <td>15.07</td>\n",
       "      <td>12.92</td>\n",
       "      <td>15.07</td>\n",
       "      <td>1295</td>\n",
       "      <td>USD</td>\n",
       "    </tr>\n",
       "    <tr>\n",
       "      <th>4</th>\n",
       "      <td>2016-03-14</td>\n",
       "      <td>15.07</td>\n",
       "      <td>15.07</td>\n",
       "      <td>11.40</td>\n",
       "      <td>12.50</td>\n",
       "      <td>92183</td>\n",
       "      <td>USD</td>\n",
       "    </tr>\n",
       "  </tbody>\n",
       "</table>\n",
       "</div>"
      ],
      "text/plain": [
       "         Date   Open   High    Low  Close  Volume Currency\n",
       "0  2016-03-10  11.20  11.85  11.07  11.75       4      USD\n",
       "1  2016-03-11  11.75  11.95  11.75  11.95     179      USD\n",
       "2  2016-03-12  11.95  13.45  11.95  12.92     833      USD\n",
       "3  2016-03-13  12.92  15.07  12.92  15.07    1295      USD\n",
       "4  2016-03-14  15.07  15.07  11.40  12.50   92183      USD"
      ]
     },
     "execution_count": 9,
     "metadata": {},
     "output_type": "execute_result"
    }
   ],
   "source": [
    "df.head()"
   ]
  },
  {
   "cell_type": "markdown",
   "metadata": {},
   "source": [
    "### Step 2: Data Preperation"
   ]
  },
  {
   "cell_type": "code",
   "execution_count": 15,
   "metadata": {},
   "outputs": [],
   "source": [
    "df['Date'] = pd.to_datetime(df['Date'])"
   ]
  },
  {
   "cell_type": "code",
   "execution_count": 14,
   "metadata": {},
   "outputs": [
    {
     "data": {
      "text/plain": [
       "Index(['Date', 'Open', 'High', 'Low', 'Close', 'Volume', 'Currency'], dtype='object')"
      ]
     },
     "execution_count": 14,
     "metadata": {},
     "output_type": "execute_result"
    }
   ],
   "source": [
    "df.columns"
   ]
  },
  {
   "cell_type": "code",
   "execution_count": 19,
   "metadata": {},
   "outputs": [],
   "source": [
    "df = df.rename(columns = {'Volume' : 'Eth_Volume'})\n",
    "df = df.rename(columns = {'Eth_Volume' : 'Volume'})"
   ]
  },
  {
   "cell_type": "code",
   "execution_count": 20,
   "metadata": {},
   "outputs": [
    {
     "data": {
      "application/vnd.microsoft.datawrangler.viewer.v0+json": {
       "columns": [
        {
         "name": "index",
         "rawType": "int64",
         "type": "integer"
        },
        {
         "name": "Date",
         "rawType": "datetime64[ns]",
         "type": "datetime"
        },
        {
         "name": "Open",
         "rawType": "float64",
         "type": "float"
        },
        {
         "name": "High",
         "rawType": "float64",
         "type": "float"
        },
        {
         "name": "Low",
         "rawType": "float64",
         "type": "float"
        },
        {
         "name": "Close",
         "rawType": "float64",
         "type": "float"
        },
        {
         "name": "Volume",
         "rawType": "int64",
         "type": "integer"
        },
        {
         "name": "Currency",
         "rawType": "object",
         "type": "string"
        }
       ],
       "conversionMethod": "pd.DataFrame",
       "ref": "ddc493f3-fa80-4e01-8485-0c8bea492700",
       "rows": [
        [
         "0",
         "2016-03-10 00:00:00",
         "11.2",
         "11.85",
         "11.07",
         "11.75",
         "4",
         "USD"
        ],
        [
         "1",
         "2016-03-11 00:00:00",
         "11.75",
         "11.95",
         "11.75",
         "11.95",
         "179",
         "USD"
        ],
        [
         "2",
         "2016-03-12 00:00:00",
         "11.95",
         "13.45",
         "11.95",
         "12.92",
         "833",
         "USD"
        ],
        [
         "3",
         "2016-03-13 00:00:00",
         "12.92",
         "15.07",
         "12.92",
         "15.07",
         "1295",
         "USD"
        ],
        [
         "4",
         "2016-03-14 00:00:00",
         "15.07",
         "15.07",
         "11.4",
         "12.5",
         "92183",
         "USD"
        ]
       ],
       "shape": {
        "columns": 7,
        "rows": 5
       }
      },
      "text/html": [
       "<div>\n",
       "<style scoped>\n",
       "    .dataframe tbody tr th:only-of-type {\n",
       "        vertical-align: middle;\n",
       "    }\n",
       "\n",
       "    .dataframe tbody tr th {\n",
       "        vertical-align: top;\n",
       "    }\n",
       "\n",
       "    .dataframe thead th {\n",
       "        text-align: right;\n",
       "    }\n",
       "</style>\n",
       "<table border=\"1\" class=\"dataframe\">\n",
       "  <thead>\n",
       "    <tr style=\"text-align: right;\">\n",
       "      <th></th>\n",
       "      <th>Date</th>\n",
       "      <th>Open</th>\n",
       "      <th>High</th>\n",
       "      <th>Low</th>\n",
       "      <th>Close</th>\n",
       "      <th>Volume</th>\n",
       "      <th>Currency</th>\n",
       "    </tr>\n",
       "  </thead>\n",
       "  <tbody>\n",
       "    <tr>\n",
       "      <th>0</th>\n",
       "      <td>2016-03-10</td>\n",
       "      <td>11.20</td>\n",
       "      <td>11.85</td>\n",
       "      <td>11.07</td>\n",
       "      <td>11.75</td>\n",
       "      <td>4</td>\n",
       "      <td>USD</td>\n",
       "    </tr>\n",
       "    <tr>\n",
       "      <th>1</th>\n",
       "      <td>2016-03-11</td>\n",
       "      <td>11.75</td>\n",
       "      <td>11.95</td>\n",
       "      <td>11.75</td>\n",
       "      <td>11.95</td>\n",
       "      <td>179</td>\n",
       "      <td>USD</td>\n",
       "    </tr>\n",
       "    <tr>\n",
       "      <th>2</th>\n",
       "      <td>2016-03-12</td>\n",
       "      <td>11.95</td>\n",
       "      <td>13.45</td>\n",
       "      <td>11.95</td>\n",
       "      <td>12.92</td>\n",
       "      <td>833</td>\n",
       "      <td>USD</td>\n",
       "    </tr>\n",
       "    <tr>\n",
       "      <th>3</th>\n",
       "      <td>2016-03-13</td>\n",
       "      <td>12.92</td>\n",
       "      <td>15.07</td>\n",
       "      <td>12.92</td>\n",
       "      <td>15.07</td>\n",
       "      <td>1295</td>\n",
       "      <td>USD</td>\n",
       "    </tr>\n",
       "    <tr>\n",
       "      <th>4</th>\n",
       "      <td>2016-03-14</td>\n",
       "      <td>15.07</td>\n",
       "      <td>15.07</td>\n",
       "      <td>11.40</td>\n",
       "      <td>12.50</td>\n",
       "      <td>92183</td>\n",
       "      <td>USD</td>\n",
       "    </tr>\n",
       "  </tbody>\n",
       "</table>\n",
       "</div>"
      ],
      "text/plain": [
       "        Date   Open   High    Low  Close  Volume Currency\n",
       "0 2016-03-10  11.20  11.85  11.07  11.75       4      USD\n",
       "1 2016-03-11  11.75  11.95  11.75  11.95     179      USD\n",
       "2 2016-03-12  11.95  13.45  11.95  12.92     833      USD\n",
       "3 2016-03-13  12.92  15.07  12.92  15.07    1295      USD\n",
       "4 2016-03-14  15.07  15.07  11.40  12.50   92183      USD"
      ]
     },
     "execution_count": 20,
     "metadata": {},
     "output_type": "execute_result"
    }
   ],
   "source": [
    "df.head()"
   ]
  },
  {
   "cell_type": "code",
   "execution_count": 23,
   "metadata": {},
   "outputs": [
    {
     "data": {
      "text/plain": [
       "Date        0\n",
       "Open        0\n",
       "High        0\n",
       "Low         0\n",
       "Close       0\n",
       "Volume      0\n",
       "Currency    0\n",
       "dtype: int64"
      ]
     },
     "execution_count": 23,
     "metadata": {},
     "output_type": "execute_result"
    }
   ],
   "source": [
    "df.isna()\n",
    "df.isna().sum()\n"
   ]
  },
  {
   "cell_type": "code",
   "execution_count": 24,
   "metadata": {},
   "outputs": [
    {
     "data": {
      "text/plain": [
       "np.int64(0)"
      ]
     },
     "execution_count": 24,
     "metadata": {},
     "output_type": "execute_result"
    }
   ],
   "source": [
    "df.duplicated().sum()"
   ]
  },
  {
   "cell_type": "markdown",
   "metadata": {},
   "source": [
    "### Step 3: Feature Understanding"
   ]
  },
  {
   "cell_type": "code",
   "execution_count": 25,
   "metadata": {},
   "outputs": [
    {
     "data": {
      "application/vnd.microsoft.datawrangler.viewer.v0+json": {
       "columns": [
        {
         "name": "index",
         "rawType": "int64",
         "type": "integer"
        },
        {
         "name": "Date",
         "rawType": "datetime64[ns]",
         "type": "datetime"
        },
        {
         "name": "Open",
         "rawType": "float64",
         "type": "float"
        },
        {
         "name": "High",
         "rawType": "float64",
         "type": "float"
        },
        {
         "name": "Low",
         "rawType": "float64",
         "type": "float"
        },
        {
         "name": "Close",
         "rawType": "float64",
         "type": "float"
        },
        {
         "name": "Volume",
         "rawType": "int64",
         "type": "integer"
        },
        {
         "name": "Currency",
         "rawType": "object",
         "type": "string"
        }
       ],
       "conversionMethod": "pd.DataFrame",
       "ref": "e3612428-3e73-4a1d-b26b-d0bcf2c6409a",
       "rows": [
        [
         "0",
         "2016-03-10 00:00:00",
         "11.2",
         "11.85",
         "11.07",
         "11.75",
         "4",
         "USD"
        ],
        [
         "1",
         "2016-03-11 00:00:00",
         "11.75",
         "11.95",
         "11.75",
         "11.95",
         "179",
         "USD"
        ],
        [
         "2",
         "2016-03-12 00:00:00",
         "11.95",
         "13.45",
         "11.95",
         "12.92",
         "833",
         "USD"
        ],
        [
         "3",
         "2016-03-13 00:00:00",
         "12.92",
         "15.07",
         "12.92",
         "15.07",
         "1295",
         "USD"
        ],
        [
         "4",
         "2016-03-14 00:00:00",
         "15.07",
         "15.07",
         "11.4",
         "12.5",
         "92183",
         "USD"
        ],
        [
         "5",
         "2016-03-15 00:00:00",
         "12.63",
         "13.42",
         "11.98",
         "13.06",
         "39725",
         "USD"
        ],
        [
         "6",
         "2016-03-16 00:00:00",
         "13.06",
         "13.89",
         "12.62",
         "12.88",
         "19240",
         "USD"
        ],
        [
         "7",
         "2016-03-17 00:00:00",
         "12.58",
         "12.61",
         "10.44",
         "10.74",
         "89450",
         "USD"
        ],
        [
         "8",
         "2016-03-18 00:00:00",
         "11.09",
         "11.2",
         "8.34",
         "10.74",
         "157374",
         "USD"
        ],
        [
         "9",
         "2016-03-19 00:00:00",
         "10.97",
         "11.1",
         "9.78",
         "10.31",
         "67547",
         "USD"
        ],
        [
         "10",
         "2016-03-20 00:00:00",
         "10.55",
         "10.88",
         "9.56",
         "10.18",
         "33177",
         "USD"
        ],
        [
         "11",
         "2016-03-21 00:00:00",
         "10.18",
         "12.05",
         "10.14",
         "11.95",
         "38857",
         "USD"
        ],
        [
         "12",
         "2016-03-22 00:00:00",
         "11.53",
         "11.97",
         "11.08",
         "11.37",
         "26285",
         "USD"
        ],
        [
         "13",
         "2016-03-23 00:00:00",
         "11.37",
         "12.43",
         "11.2",
         "12.43",
         "27024",
         "USD"
        ],
        [
         "14",
         "2016-03-24 00:00:00",
         "12.43",
         "12.47",
         "10.67",
         "11.2",
         "50796",
         "USD"
        ],
        [
         "15",
         "2016-03-25 00:00:00",
         "11.32",
         "11.35",
         "10.52",
         "10.67",
         "87423",
         "USD"
        ],
        [
         "16",
         "2016-03-26 00:00:00",
         "10.67",
         "11.2",
         "10.58",
         "11.0",
         "16125",
         "USD"
        ],
        [
         "17",
         "2016-03-27 00:00:00",
         "10.93",
         "10.98",
         "10.17",
         "10.4",
         "55815",
         "USD"
        ],
        [
         "18",
         "2016-03-28 00:00:00",
         "10.4",
         "11.94",
         "10.4",
         "11.62",
         "77312",
         "USD"
        ],
        [
         "19",
         "2016-03-29 00:00:00",
         "11.78",
         "11.88",
         "11.37",
         "11.79",
         "47572",
         "USD"
        ],
        [
         "20",
         "2016-03-30 00:00:00",
         "11.79",
         "12.3",
         "11.44",
         "11.85",
         "36960",
         "USD"
        ],
        [
         "21",
         "2016-03-31 00:00:00",
         "11.92",
         "12.02",
         "11.29",
         "11.41",
         "32669",
         "USD"
        ],
        [
         "22",
         "2016-04-01 00:00:00",
         "11.41",
         "11.94",
         "11.39",
         "11.62",
         "22197",
         "USD"
        ],
        [
         "23",
         "2016-04-02 00:00:00",
         "11.65",
         "11.77",
         "11.43",
         "11.61",
         "12173",
         "USD"
        ],
        [
         "24",
         "2016-04-03 00:00:00",
         "11.61",
         "11.76",
         "11.4",
         "11.75",
         "18851",
         "USD"
        ],
        [
         "25",
         "2016-04-04 00:00:00",
         "11.6",
         "11.67",
         "10.88",
         "11.15",
         "38742",
         "USD"
        ],
        [
         "26",
         "2016-04-05 00:00:00",
         "11.15",
         "11.15",
         "9.7",
         "10.4",
         "53389",
         "USD"
        ],
        [
         "27",
         "2016-04-06 00:00:00",
         "10.4",
         "10.96",
         "10.2",
         "10.76",
         "40040",
         "USD"
        ],
        [
         "28",
         "2016-04-07 00:00:00",
         "10.76",
         "10.85",
         "9.4",
         "10.12",
         "50740",
         "USD"
        ],
        [
         "29",
         "2016-04-08 00:00:00",
         "10.05",
         "10.34",
         "9.6",
         "9.71",
         "25974",
         "USD"
        ],
        [
         "30",
         "2016-04-09 00:00:00",
         "9.69",
         "10.2",
         "9.0",
         "9.15",
         "64964",
         "USD"
        ],
        [
         "31",
         "2016-04-10 00:00:00",
         "9.15",
         "9.43",
         "7.52",
         "8.76",
         "171987",
         "USD"
        ],
        [
         "32",
         "2016-04-11 00:00:00",
         "8.56",
         "8.93",
         "8.01",
         "8.68",
         "60277",
         "USD"
        ],
        [
         "33",
         "2016-04-12 00:00:00",
         "8.53",
         "8.54",
         "7.21",
         "7.53",
         "63823",
         "USD"
        ],
        [
         "34",
         "2016-04-13 00:00:00",
         "7.48",
         "8.8",
         "6.86",
         "8.09",
         "142212",
         "USD"
        ],
        [
         "35",
         "2016-04-14 00:00:00",
         "8.08",
         "8.86",
         "8.0",
         "8.46",
         "36148",
         "USD"
        ],
        [
         "36",
         "2016-04-15 00:00:00",
         "8.39",
         "8.69",
         "8.1",
         "8.32",
         "30478",
         "USD"
        ],
        [
         "37",
         "2016-04-16 00:00:00",
         "8.23",
         "8.68",
         "8.18",
         "8.54",
         "29257",
         "USD"
        ],
        [
         "38",
         "2016-04-17 00:00:00",
         "8.7",
         "10.9",
         "8.61",
         "9.46",
         "96047",
         "USD"
        ],
        [
         "39",
         "2016-04-18 00:00:00",
         "9.3",
         "9.55",
         "8.44",
         "8.97",
         "37877",
         "USD"
        ],
        [
         "40",
         "2016-04-19 00:00:00",
         "8.97",
         "9.38",
         "8.65",
         "8.71",
         "35259",
         "USD"
        ],
        [
         "41",
         "2016-04-20 00:00:00",
         "8.73",
         "9.05",
         "8.35",
         "8.61",
         "167706",
         "USD"
        ],
        [
         "42",
         "2016-04-21 00:00:00",
         "8.61",
         "8.8",
         "8.0",
         "8.11",
         "45521",
         "USD"
        ],
        [
         "43",
         "2016-04-22 00:00:00",
         "8.23",
         "8.41",
         "7.73",
         "7.97",
         "97367",
         "USD"
        ],
        [
         "44",
         "2016-04-23 00:00:00",
         "7.95",
         "8.8",
         "7.81",
         "8.46",
         "89572",
         "USD"
        ],
        [
         "45",
         "2016-04-24 00:00:00",
         "8.35",
         "8.5",
         "8.01",
         "8.1",
         "52056",
         "USD"
        ],
        [
         "46",
         "2016-04-25 00:00:00",
         "8.05",
         "8.15",
         "7.32",
         "7.54",
         "207064",
         "USD"
        ],
        [
         "47",
         "2016-04-26 00:00:00",
         "7.56",
         "7.6",
         "7.12",
         "7.5",
         "129269",
         "USD"
        ],
        [
         "48",
         "2016-04-27 00:00:00",
         "7.4",
         "7.99",
         "7.31",
         "7.8",
         "90465",
         "USD"
        ],
        [
         "49",
         "2016-04-28 00:00:00",
         "7.73",
         "7.87",
         "7.25",
         "7.33",
         "69398",
         "USD"
        ]
       ],
       "shape": {
        "columns": 7,
        "rows": 2358
       }
      },
      "text/html": [
       "<div>\n",
       "<style scoped>\n",
       "    .dataframe tbody tr th:only-of-type {\n",
       "        vertical-align: middle;\n",
       "    }\n",
       "\n",
       "    .dataframe tbody tr th {\n",
       "        vertical-align: top;\n",
       "    }\n",
       "\n",
       "    .dataframe thead th {\n",
       "        text-align: right;\n",
       "    }\n",
       "</style>\n",
       "<table border=\"1\" class=\"dataframe\">\n",
       "  <thead>\n",
       "    <tr style=\"text-align: right;\">\n",
       "      <th></th>\n",
       "      <th>Date</th>\n",
       "      <th>Open</th>\n",
       "      <th>High</th>\n",
       "      <th>Low</th>\n",
       "      <th>Close</th>\n",
       "      <th>Volume</th>\n",
       "      <th>Currency</th>\n",
       "    </tr>\n",
       "  </thead>\n",
       "  <tbody>\n",
       "    <tr>\n",
       "      <th>0</th>\n",
       "      <td>2016-03-10</td>\n",
       "      <td>11.20</td>\n",
       "      <td>11.85</td>\n",
       "      <td>11.07</td>\n",
       "      <td>11.75</td>\n",
       "      <td>4</td>\n",
       "      <td>USD</td>\n",
       "    </tr>\n",
       "    <tr>\n",
       "      <th>1</th>\n",
       "      <td>2016-03-11</td>\n",
       "      <td>11.75</td>\n",
       "      <td>11.95</td>\n",
       "      <td>11.75</td>\n",
       "      <td>11.95</td>\n",
       "      <td>179</td>\n",
       "      <td>USD</td>\n",
       "    </tr>\n",
       "    <tr>\n",
       "      <th>2</th>\n",
       "      <td>2016-03-12</td>\n",
       "      <td>11.95</td>\n",
       "      <td>13.45</td>\n",
       "      <td>11.95</td>\n",
       "      <td>12.92</td>\n",
       "      <td>833</td>\n",
       "      <td>USD</td>\n",
       "    </tr>\n",
       "    <tr>\n",
       "      <th>3</th>\n",
       "      <td>2016-03-13</td>\n",
       "      <td>12.92</td>\n",
       "      <td>15.07</td>\n",
       "      <td>12.92</td>\n",
       "      <td>15.07</td>\n",
       "      <td>1295</td>\n",
       "      <td>USD</td>\n",
       "    </tr>\n",
       "    <tr>\n",
       "      <th>4</th>\n",
       "      <td>2016-03-14</td>\n",
       "      <td>15.07</td>\n",
       "      <td>15.07</td>\n",
       "      <td>11.40</td>\n",
       "      <td>12.50</td>\n",
       "      <td>92183</td>\n",
       "      <td>USD</td>\n",
       "    </tr>\n",
       "    <tr>\n",
       "      <th>...</th>\n",
       "      <td>...</td>\n",
       "      <td>...</td>\n",
       "      <td>...</td>\n",
       "      <td>...</td>\n",
       "      <td>...</td>\n",
       "      <td>...</td>\n",
       "      <td>...</td>\n",
       "    </tr>\n",
       "    <tr>\n",
       "      <th>2353</th>\n",
       "      <td>2022-08-19</td>\n",
       "      <td>1846.52</td>\n",
       "      <td>1846.97</td>\n",
       "      <td>1607.60</td>\n",
       "      <td>1609.48</td>\n",
       "      <td>1594321</td>\n",
       "      <td>USD</td>\n",
       "    </tr>\n",
       "    <tr>\n",
       "      <th>2354</th>\n",
       "      <td>2022-08-20</td>\n",
       "      <td>1609.01</td>\n",
       "      <td>1654.84</td>\n",
       "      <td>1525.51</td>\n",
       "      <td>1575.60</td>\n",
       "      <td>1007240</td>\n",
       "      <td>USD</td>\n",
       "    </tr>\n",
       "    <tr>\n",
       "      <th>2355</th>\n",
       "      <td>2022-08-21</td>\n",
       "      <td>1575.61</td>\n",
       "      <td>1644.88</td>\n",
       "      <td>1563.92</td>\n",
       "      <td>1618.25</td>\n",
       "      <td>852071</td>\n",
       "      <td>USD</td>\n",
       "    </tr>\n",
       "    <tr>\n",
       "      <th>2356</th>\n",
       "      <td>2022-08-22</td>\n",
       "      <td>1618.21</td>\n",
       "      <td>1627.13</td>\n",
       "      <td>1531.91</td>\n",
       "      <td>1626.75</td>\n",
       "      <td>1044290</td>\n",
       "      <td>USD</td>\n",
       "    </tr>\n",
       "    <tr>\n",
       "      <th>2357</th>\n",
       "      <td>2022-08-23</td>\n",
       "      <td>1626.70</td>\n",
       "      <td>1636.32</td>\n",
       "      <td>1615.55</td>\n",
       "      <td>1623.24</td>\n",
       "      <td>1053674</td>\n",
       "      <td>USD</td>\n",
       "    </tr>\n",
       "  </tbody>\n",
       "</table>\n",
       "<p>2358 rows × 7 columns</p>\n",
       "</div>"
      ],
      "text/plain": [
       "           Date     Open     High      Low    Close   Volume Currency\n",
       "0    2016-03-10    11.20    11.85    11.07    11.75        4      USD\n",
       "1    2016-03-11    11.75    11.95    11.75    11.95      179      USD\n",
       "2    2016-03-12    11.95    13.45    11.95    12.92      833      USD\n",
       "3    2016-03-13    12.92    15.07    12.92    15.07     1295      USD\n",
       "4    2016-03-14    15.07    15.07    11.40    12.50    92183      USD\n",
       "...         ...      ...      ...      ...      ...      ...      ...\n",
       "2353 2022-08-19  1846.52  1846.97  1607.60  1609.48  1594321      USD\n",
       "2354 2022-08-20  1609.01  1654.84  1525.51  1575.60  1007240      USD\n",
       "2355 2022-08-21  1575.61  1644.88  1563.92  1618.25   852071      USD\n",
       "2356 2022-08-22  1618.21  1627.13  1531.91  1626.75  1044290      USD\n",
       "2357 2022-08-23  1626.70  1636.32  1615.55  1623.24  1053674      USD\n",
       "\n",
       "[2358 rows x 7 columns]"
      ]
     },
     "execution_count": 25,
     "metadata": {},
     "output_type": "execute_result"
    }
   ],
   "source": [
    "df"
   ]
  },
  {
   "cell_type": "code",
   "execution_count": 26,
   "metadata": {},
   "outputs": [
    {
     "data": {
      "text/plain": [
       "Close\n",
       "10.16      9\n",
       "12.01      6\n",
       "11.75      3\n",
       "12.92      3\n",
       "12.90      3\n",
       "          ..\n",
       "468.78     1\n",
       "470.23     1\n",
       "462.75     1\n",
       "472.03     1\n",
       "1623.24    1\n",
       "Name: count, Length: 2246, dtype: int64"
      ]
     },
     "execution_count": 26,
     "metadata": {},
     "output_type": "execute_result"
    }
   ],
   "source": [
    "df['Close'].value_counts()"
   ]
  },
  {
   "cell_type": "code",
   "execution_count": 34,
   "metadata": {},
   "outputs": [
    {
     "data": {
      "text/plain": [
       "Text(0, 0.5, 'Prices')"
      ]
     },
     "execution_count": 34,
     "metadata": {},
     "output_type": "execute_result"
    },
    {
     "data": {
      "image/png": "[encoded data removed]",
      "text/plain": [
       "<Figure size 2000x600 with 1 Axes>"
      ]
     },
     "metadata": {},
     "output_type": "display_data"
    }
   ],
   "source": [
    "ax = df['Close'] \\\n",
    ".value_counts() \\\n",
    ".head(10)\\\n",
    ".plot(kind='barh', title = 'Top 10 Counts of Closes Per Prices',figsize=(20,6))\n",
    "\n",
    "ax.set_xlabel('Counts')\n",
    "ax.set_ylabel('Prices')"
   ]
  },
  {
   "cell_type": "code",
   "execution_count": null,
   "metadata": {},
   "outputs": [
    {
     "data": {
      "text/plain": [
       "Text(0, 0.5, 'Counts')"
      ]
     },
     "execution_count": 42,
     "metadata": {},
     "output_type": "execute_result"
    },
    {
     "data": {
      "image/png": "[encoded data removed]",
      "text/plain": [
       "<Figure size 2000x600 with 1 Axes>"
      ]
     },
     "metadata": {},
     "output_type": "display_data"
    }
   ],
   "source": [
    "ax = df['Volume']\\\n",
    ".plot(kind='hist', title = 'Counts Per Volume Distribution', figsize=(20,6))\n",
    "\n",
    "ax.set_xlabel('Volume')\n",
    "ax.set_ylabel('Counts')\n"
   ]
  },
  {
   "cell_type": "code",
   "execution_count": 45,
   "metadata": {},
   "outputs": [
    {
     "data": {
      "text/plain": [
       "Text(0, 0.5, 'Counts')"
      ]
     },
     "execution_count": 45,
     "metadata": {},
     "output_type": "execute_result"
    },
    {
     "data": {
      "image/png": "[encoded data removed]",
      "text/plain": [
       "<Figure size 2000x600 with 1 Axes>"
      ]
     },
     "metadata": {},
     "output_type": "display_data"
    }
   ],
   "source": [
    "ax = df['Volume']\\\n",
    ".plot(kind='kde', title = 'Counts Per Volume Distribution', figsize=(20,6))\n",
    "\n",
    "ax.set_xlabel('Volume')\n",
    "ax.set_ylabel('Counts')\n"
   ]
  },
  {
   "cell_type": "markdown",
   "metadata": {},
   "source": [
    "### Step 4: Feature Relationships"
   ]
  },
  {
   "cell_type": "code",
   "execution_count": 54,
   "metadata": {},
   "outputs": [
    {
     "data": {
      "image/png": "[encoded data removed]",
      "text/plain": [
       "<Figure size 2000x600 with 1 Axes>"
      ]
     },
     "metadata": {},
     "output_type": "display_data"
    }
   ],
   "source": [
    "df.plot(kind='scatter', x='Date', y='Close', figsize=(20,6), title='Close vs. Date')\n",
    "\n",
    "plt.show()"
   ]
  },
  {
   "cell_type": "code",
   "execution_count": 55,
   "metadata": {},
   "outputs": [
    {
     "data": {
      "image/png": "[encoded data removed]",
      "text/plain": [
       "<Figure size 2000x600 with 1 Axes>"
      ]
     },
     "metadata": {},
     "output_type": "display_data"
    }
   ],
   "source": [
    "plt.figure(figsize=(20,6))\n",
    "sns.scatterplot(x='Date', y='Close', hue='Open', data=df)\n",
    "plt.show()"
   ]
  }
 ],
 "metadata": {
  "kernelspec": {
   "display_name": "jupyter_env",
   "language": "python",
   "name": "python3"
  },
  "language_info": {
   "codemirror_mode": {
    "name": "ipython",
    "version": 3
   },
   "file_extension": ".py",
   "mimetype": "text/x-python",
   "name": "python",
   "nbconvert_exporter": "python",
   "pygments_lexer": "ipython3",
   "version": "3.13.2"
  }
 },
 "nbformat": 4,
 "nbformat_minor": 2
}
